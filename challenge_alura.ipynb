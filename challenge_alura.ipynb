{
  "nbformat": 4,
  "nbformat_minor": 0,
  "metadata": {
    "colab": {
      "provenance": [],
      "authorship_tag": "ABX9TyMRuKLtxaGY8wSBVKWJ+v4g",
      "include_colab_link": true
    },
    "kernelspec": {
      "name": "python3",
      "display_name": "Python 3"
    },
    "language_info": {
      "name": "python"
    }
  },
  "cells": [
    {
      "cell_type": "markdown",
      "metadata": {
        "id": "view-in-github",
        "colab_type": "text"
      },
      "source": [
        "<a href=\"https://colab.research.google.com/github/Colombiant/Analisis-de-datos/blob/main/challenge_alura.ipynb\" target=\"_parent\"><img src=\"https://colab.research.google.com/assets/colab-badge.svg\" alt=\"Open In Colab\"/></a>"
      ]
    },
    {
      "cell_type": "markdown",
      "source": [
        "# Challenge alura"
      ],
      "metadata": {
        "id": "FwIvCo_JfKuA"
      }
    },
    {
      "cell_type": "markdown",
      "source": [
        "Durante este desafío, ayudarás al Sr. Juan a decidir qué tienda de su cadena Alura Store debe vender para iniciar un nuevo emprendimiento. Para ello, analizarás datos de ventas, rendimiento y reseñas de las 4 tiendas de Alura Store. El objetivo es identificar la tienda menos eficiente y presentar una recomendación final basada en los datos."
      ],
      "metadata": {
        "id": "m2rqglyTe-2b"
      }
    },
    {
      "cell_type": "markdown",
      "source": [
        "importación de la base de datos"
      ],
      "metadata": {
        "id": "SRHHlYqmfbXo"
      }
    },
    {
      "cell_type": "code",
      "execution_count": 2,
      "metadata": {
        "colab": {
          "base_uri": "https://localhost:8080/",
          "height": 206
        },
        "id": "SK2QpIu3fvfz",
        "outputId": "dbdeb5fc-7939-4a7c-b82f-ec80f9e153f7"
      },
      "outputs": [
        {
          "output_type": "execute_result",
          "data": {
            "text/plain": [
              "            Producto Categoría del Producto    Precio  Costo de envío  \\\n",
              "0  Asistente virtual           Electrónicos  164300.0          6900.0   \n",
              "1    Mesa de comedor                Muebles  192300.0          8400.0   \n",
              "2      Juego de mesa               Juguetes  209600.0         15900.0   \n",
              "3         Microondas      Electrodomésticos  757500.0         41000.0   \n",
              "4   Silla de oficina                Muebles  335200.0         20200.0   \n",
              "\n",
              "  Fecha de Compra         Vendedor Lugar de Compra  Calificación  \\\n",
              "0      16/01/2021      Pedro Gomez          Bogotá             4   \n",
              "1      18/05/2022  Beatriz Morales        Medellín             1   \n",
              "2      15/03/2021   Juan Fernandez       Cartagena             1   \n",
              "3      03/05/2022   Juan Fernandez            Cali             4   \n",
              "4      07/11/2020    Maria Alfonso        Medellín             5   \n",
              "\n",
              "       Método de pago  Cantidad de cuotas       lat       lon  \n",
              "0  Tarjeta de crédito                   8   4.60971 -74.08175  \n",
              "1  Tarjeta de crédito                   4   6.25184 -75.56359  \n",
              "2  Tarjeta de crédito                   1  10.39972 -75.51444  \n",
              "3               Nequi                   1   3.43722 -76.52250  \n",
              "4               Nequi                   1   6.25184 -75.56359  "
            ],
            "text/html": [
              "\n",
              "  <div id=\"df-12e143ef-a19f-4a63-894a-ec9eb7625d83\" class=\"colab-df-container\">\n",
              "    <div>\n",
              "<style scoped>\n",
              "    .dataframe tbody tr th:only-of-type {\n",
              "        vertical-align: middle;\n",
              "    }\n",
              "\n",
              "    .dataframe tbody tr th {\n",
              "        vertical-align: top;\n",
              "    }\n",
              "\n",
              "    .dataframe thead th {\n",
              "        text-align: right;\n",
              "    }\n",
              "</style>\n",
              "<table border=\"1\" class=\"dataframe\">\n",
              "  <thead>\n",
              "    <tr style=\"text-align: right;\">\n",
              "      <th></th>\n",
              "      <th>Producto</th>\n",
              "      <th>Categoría del Producto</th>\n",
              "      <th>Precio</th>\n",
              "      <th>Costo de envío</th>\n",
              "      <th>Fecha de Compra</th>\n",
              "      <th>Vendedor</th>\n",
              "      <th>Lugar de Compra</th>\n",
              "      <th>Calificación</th>\n",
              "      <th>Método de pago</th>\n",
              "      <th>Cantidad de cuotas</th>\n",
              "      <th>lat</th>\n",
              "      <th>lon</th>\n",
              "    </tr>\n",
              "  </thead>\n",
              "  <tbody>\n",
              "    <tr>\n",
              "      <th>0</th>\n",
              "      <td>Asistente virtual</td>\n",
              "      <td>Electrónicos</td>\n",
              "      <td>164300.0</td>\n",
              "      <td>6900.0</td>\n",
              "      <td>16/01/2021</td>\n",
              "      <td>Pedro Gomez</td>\n",
              "      <td>Bogotá</td>\n",
              "      <td>4</td>\n",
              "      <td>Tarjeta de crédito</td>\n",
              "      <td>8</td>\n",
              "      <td>4.60971</td>\n",
              "      <td>-74.08175</td>\n",
              "    </tr>\n",
              "    <tr>\n",
              "      <th>1</th>\n",
              "      <td>Mesa de comedor</td>\n",
              "      <td>Muebles</td>\n",
              "      <td>192300.0</td>\n",
              "      <td>8400.0</td>\n",
              "      <td>18/05/2022</td>\n",
              "      <td>Beatriz Morales</td>\n",
              "      <td>Medellín</td>\n",
              "      <td>1</td>\n",
              "      <td>Tarjeta de crédito</td>\n",
              "      <td>4</td>\n",
              "      <td>6.25184</td>\n",
              "      <td>-75.56359</td>\n",
              "    </tr>\n",
              "    <tr>\n",
              "      <th>2</th>\n",
              "      <td>Juego de mesa</td>\n",
              "      <td>Juguetes</td>\n",
              "      <td>209600.0</td>\n",
              "      <td>15900.0</td>\n",
              "      <td>15/03/2021</td>\n",
              "      <td>Juan Fernandez</td>\n",
              "      <td>Cartagena</td>\n",
              "      <td>1</td>\n",
              "      <td>Tarjeta de crédito</td>\n",
              "      <td>1</td>\n",
              "      <td>10.39972</td>\n",
              "      <td>-75.51444</td>\n",
              "    </tr>\n",
              "    <tr>\n",
              "      <th>3</th>\n",
              "      <td>Microondas</td>\n",
              "      <td>Electrodomésticos</td>\n",
              "      <td>757500.0</td>\n",
              "      <td>41000.0</td>\n",
              "      <td>03/05/2022</td>\n",
              "      <td>Juan Fernandez</td>\n",
              "      <td>Cali</td>\n",
              "      <td>4</td>\n",
              "      <td>Nequi</td>\n",
              "      <td>1</td>\n",
              "      <td>3.43722</td>\n",
              "      <td>-76.52250</td>\n",
              "    </tr>\n",
              "    <tr>\n",
              "      <th>4</th>\n",
              "      <td>Silla de oficina</td>\n",
              "      <td>Muebles</td>\n",
              "      <td>335200.0</td>\n",
              "      <td>20200.0</td>\n",
              "      <td>07/11/2020</td>\n",
              "      <td>Maria Alfonso</td>\n",
              "      <td>Medellín</td>\n",
              "      <td>5</td>\n",
              "      <td>Nequi</td>\n",
              "      <td>1</td>\n",
              "      <td>6.25184</td>\n",
              "      <td>-75.56359</td>\n",
              "    </tr>\n",
              "  </tbody>\n",
              "</table>\n",
              "</div>\n",
              "    <div class=\"colab-df-buttons\">\n",
              "\n",
              "  <div class=\"colab-df-container\">\n",
              "    <button class=\"colab-df-convert\" onclick=\"convertToInteractive('df-12e143ef-a19f-4a63-894a-ec9eb7625d83')\"\n",
              "            title=\"Convert this dataframe to an interactive table.\"\n",
              "            style=\"display:none;\">\n",
              "\n",
              "  <svg xmlns=\"http://www.w3.org/2000/svg\" height=\"24px\" viewBox=\"0 -960 960 960\">\n",
              "    <path d=\"M120-120v-720h720v720H120Zm60-500h600v-160H180v160Zm220 220h160v-160H400v160Zm0 220h160v-160H400v160ZM180-400h160v-160H180v160Zm440 0h160v-160H620v160ZM180-180h160v-160H180v160Zm440 0h160v-160H620v160Z\"/>\n",
              "  </svg>\n",
              "    </button>\n",
              "\n",
              "  <style>\n",
              "    .colab-df-container {\n",
              "      display:flex;\n",
              "      gap: 12px;\n",
              "    }\n",
              "\n",
              "    .colab-df-convert {\n",
              "      background-color: #E8F0FE;\n",
              "      border: none;\n",
              "      border-radius: 50%;\n",
              "      cursor: pointer;\n",
              "      display: none;\n",
              "      fill: #1967D2;\n",
              "      height: 32px;\n",
              "      padding: 0 0 0 0;\n",
              "      width: 32px;\n",
              "    }\n",
              "\n",
              "    .colab-df-convert:hover {\n",
              "      background-color: #E2EBFA;\n",
              "      box-shadow: 0px 1px 2px rgba(60, 64, 67, 0.3), 0px 1px 3px 1px rgba(60, 64, 67, 0.15);\n",
              "      fill: #174EA6;\n",
              "    }\n",
              "\n",
              "    .colab-df-buttons div {\n",
              "      margin-bottom: 4px;\n",
              "    }\n",
              "\n",
              "    [theme=dark] .colab-df-convert {\n",
              "      background-color: #3B4455;\n",
              "      fill: #D2E3FC;\n",
              "    }\n",
              "\n",
              "    [theme=dark] .colab-df-convert:hover {\n",
              "      background-color: #434B5C;\n",
              "      box-shadow: 0px 1px 3px 1px rgba(0, 0, 0, 0.15);\n",
              "      filter: drop-shadow(0px 1px 2px rgba(0, 0, 0, 0.3));\n",
              "      fill: #FFFFFF;\n",
              "    }\n",
              "  </style>\n",
              "\n",
              "    <script>\n",
              "      const buttonEl =\n",
              "        document.querySelector('#df-12e143ef-a19f-4a63-894a-ec9eb7625d83 button.colab-df-convert');\n",
              "      buttonEl.style.display =\n",
              "        google.colab.kernel.accessAllowed ? 'block' : 'none';\n",
              "\n",
              "      async function convertToInteractive(key) {\n",
              "        const element = document.querySelector('#df-12e143ef-a19f-4a63-894a-ec9eb7625d83');\n",
              "        const dataTable =\n",
              "          await google.colab.kernel.invokeFunction('convertToInteractive',\n",
              "                                                    [key], {});\n",
              "        if (!dataTable) return;\n",
              "\n",
              "        const docLinkHtml = 'Like what you see? Visit the ' +\n",
              "          '<a target=\"_blank\" href=https://colab.research.google.com/notebooks/data_table.ipynb>data table notebook</a>'\n",
              "          + ' to learn more about interactive tables.';\n",
              "        element.innerHTML = '';\n",
              "        dataTable['output_type'] = 'display_data';\n",
              "        await google.colab.output.renderOutput(dataTable, element);\n",
              "        const docLink = document.createElement('div');\n",
              "        docLink.innerHTML = docLinkHtml;\n",
              "        element.appendChild(docLink);\n",
              "      }\n",
              "    </script>\n",
              "  </div>\n",
              "\n",
              "\n",
              "    <div id=\"df-73b3586c-9689-4e66-8d63-04a99c0410b7\">\n",
              "      <button class=\"colab-df-quickchart\" onclick=\"quickchart('df-73b3586c-9689-4e66-8d63-04a99c0410b7')\"\n",
              "                title=\"Suggest charts\"\n",
              "                style=\"display:none;\">\n",
              "\n",
              "<svg xmlns=\"http://www.w3.org/2000/svg\" height=\"24px\"viewBox=\"0 0 24 24\"\n",
              "     width=\"24px\">\n",
              "    <g>\n",
              "        <path d=\"M19 3H5c-1.1 0-2 .9-2 2v14c0 1.1.9 2 2 2h14c1.1 0 2-.9 2-2V5c0-1.1-.9-2-2-2zM9 17H7v-7h2v7zm4 0h-2V7h2v10zm4 0h-2v-4h2v4z\"/>\n",
              "    </g>\n",
              "</svg>\n",
              "      </button>\n",
              "\n",
              "<style>\n",
              "  .colab-df-quickchart {\n",
              "      --bg-color: #E8F0FE;\n",
              "      --fill-color: #1967D2;\n",
              "      --hover-bg-color: #E2EBFA;\n",
              "      --hover-fill-color: #174EA6;\n",
              "      --disabled-fill-color: #AAA;\n",
              "      --disabled-bg-color: #DDD;\n",
              "  }\n",
              "\n",
              "  [theme=dark] .colab-df-quickchart {\n",
              "      --bg-color: #3B4455;\n",
              "      --fill-color: #D2E3FC;\n",
              "      --hover-bg-color: #434B5C;\n",
              "      --hover-fill-color: #FFFFFF;\n",
              "      --disabled-bg-color: #3B4455;\n",
              "      --disabled-fill-color: #666;\n",
              "  }\n",
              "\n",
              "  .colab-df-quickchart {\n",
              "    background-color: var(--bg-color);\n",
              "    border: none;\n",
              "    border-radius: 50%;\n",
              "    cursor: pointer;\n",
              "    display: none;\n",
              "    fill: var(--fill-color);\n",
              "    height: 32px;\n",
              "    padding: 0;\n",
              "    width: 32px;\n",
              "  }\n",
              "\n",
              "  .colab-df-quickchart:hover {\n",
              "    background-color: var(--hover-bg-color);\n",
              "    box-shadow: 0 1px 2px rgba(60, 64, 67, 0.3), 0 1px 3px 1px rgba(60, 64, 67, 0.15);\n",
              "    fill: var(--button-hover-fill-color);\n",
              "  }\n",
              "\n",
              "  .colab-df-quickchart-complete:disabled,\n",
              "  .colab-df-quickchart-complete:disabled:hover {\n",
              "    background-color: var(--disabled-bg-color);\n",
              "    fill: var(--disabled-fill-color);\n",
              "    box-shadow: none;\n",
              "  }\n",
              "\n",
              "  .colab-df-spinner {\n",
              "    border: 2px solid var(--fill-color);\n",
              "    border-color: transparent;\n",
              "    border-bottom-color: var(--fill-color);\n",
              "    animation:\n",
              "      spin 1s steps(1) infinite;\n",
              "  }\n",
              "\n",
              "  @keyframes spin {\n",
              "    0% {\n",
              "      border-color: transparent;\n",
              "      border-bottom-color: var(--fill-color);\n",
              "      border-left-color: var(--fill-color);\n",
              "    }\n",
              "    20% {\n",
              "      border-color: transparent;\n",
              "      border-left-color: var(--fill-color);\n",
              "      border-top-color: var(--fill-color);\n",
              "    }\n",
              "    30% {\n",
              "      border-color: transparent;\n",
              "      border-left-color: var(--fill-color);\n",
              "      border-top-color: var(--fill-color);\n",
              "      border-right-color: var(--fill-color);\n",
              "    }\n",
              "    40% {\n",
              "      border-color: transparent;\n",
              "      border-right-color: var(--fill-color);\n",
              "      border-top-color: var(--fill-color);\n",
              "    }\n",
              "    60% {\n",
              "      border-color: transparent;\n",
              "      border-right-color: var(--fill-color);\n",
              "    }\n",
              "    80% {\n",
              "      border-color: transparent;\n",
              "      border-right-color: var(--fill-color);\n",
              "      border-bottom-color: var(--fill-color);\n",
              "    }\n",
              "    90% {\n",
              "      border-color: transparent;\n",
              "      border-bottom-color: var(--fill-color);\n",
              "    }\n",
              "  }\n",
              "</style>\n",
              "\n",
              "      <script>\n",
              "        async function quickchart(key) {\n",
              "          const quickchartButtonEl =\n",
              "            document.querySelector('#' + key + ' button');\n",
              "          quickchartButtonEl.disabled = true;  // To prevent multiple clicks.\n",
              "          quickchartButtonEl.classList.add('colab-df-spinner');\n",
              "          try {\n",
              "            const charts = await google.colab.kernel.invokeFunction(\n",
              "                'suggestCharts', [key], {});\n",
              "          } catch (error) {\n",
              "            console.error('Error during call to suggestCharts:', error);\n",
              "          }\n",
              "          quickchartButtonEl.classList.remove('colab-df-spinner');\n",
              "          quickchartButtonEl.classList.add('colab-df-quickchart-complete');\n",
              "        }\n",
              "        (() => {\n",
              "          let quickchartButtonEl =\n",
              "            document.querySelector('#df-73b3586c-9689-4e66-8d63-04a99c0410b7 button');\n",
              "          quickchartButtonEl.style.display =\n",
              "            google.colab.kernel.accessAllowed ? 'block' : 'none';\n",
              "        })();\n",
              "      </script>\n",
              "    </div>\n",
              "\n",
              "    </div>\n",
              "  </div>\n"
            ],
            "application/vnd.google.colaboratory.intrinsic+json": {
              "type": "dataframe",
              "variable_name": "tienda1",
              "summary": "{\n  \"name\": \"tienda1\",\n  \"rows\": 2359,\n  \"fields\": [\n    {\n      \"column\": \"Producto\",\n      \"properties\": {\n        \"dtype\": \"category\",\n        \"num_unique_values\": 51,\n        \"samples\": [\n          \"Guitarra ac\\u00fastica\",\n          \"Bal\\u00f3n de baloncesto\",\n          \"Smartwatch\"\n        ],\n        \"semantic_type\": \"\",\n        \"description\": \"\"\n      }\n    },\n    {\n      \"column\": \"Categor\\u00eda del Producto\",\n      \"properties\": {\n        \"dtype\": \"category\",\n        \"num_unique_values\": 8,\n        \"samples\": [\n          \"Muebles\",\n          \"Deportes y diversi\\u00f3n\",\n          \"Electr\\u00f3nicos\"\n        ],\n        \"semantic_type\": \"\",\n        \"description\": \"\"\n      }\n    },\n    {\n      \"column\": \"Precio\",\n      \"properties\": {\n        \"dtype\": \"number\",\n        \"std\": 614686.7653873172,\n        \"min\": 7600.0,\n        \"max\": 2977000.0,\n        \"num_unique_values\": 1937,\n        \"samples\": [\n          2499400.0,\n          14800.0,\n          80500.0\n        ],\n        \"semantic_type\": \"\",\n        \"description\": \"\"\n      }\n    },\n    {\n      \"column\": \"Costo de env\\u00edo\",\n      \"properties\": {\n        \"dtype\": \"number\",\n        \"std\": 32860.0017825605,\n        \"min\": 0.0,\n        \"max\": 160800.0,\n        \"num_unique_values\": 753,\n        \"samples\": [\n          117800.0,\n          54700.0,\n          45600.0\n        ],\n        \"semantic_type\": \"\",\n        \"description\": \"\"\n      }\n    },\n    {\n      \"column\": \"Fecha de Compra\",\n      \"properties\": {\n        \"dtype\": \"object\",\n        \"num_unique_values\": 1018,\n        \"samples\": [\n          \"15/09/2022\",\n          \"03/06/2020\",\n          \"06/11/2021\"\n        ],\n        \"semantic_type\": \"\",\n        \"description\": \"\"\n      }\n    },\n    {\n      \"column\": \"Vendedor\",\n      \"properties\": {\n        \"dtype\": \"category\",\n        \"num_unique_values\": 14,\n        \"samples\": [\n          \"Juliana Costa\",\n          \"Mariana Herrera\",\n          \"Pedro Gomez\"\n        ],\n        \"semantic_type\": \"\",\n        \"description\": \"\"\n      }\n    },\n    {\n      \"column\": \"Lugar de Compra\",\n      \"properties\": {\n        \"dtype\": \"category\",\n        \"num_unique_values\": 19,\n        \"samples\": [\n          \"Bogot\\u00e1\",\n          \"Pereira\",\n          \"Neiva\"\n        ],\n        \"semantic_type\": \"\",\n        \"description\": \"\"\n      }\n    },\n    {\n      \"column\": \"Calificaci\\u00f3n\",\n      \"properties\": {\n        \"dtype\": \"number\",\n        \"std\": 1,\n        \"min\": 1,\n        \"max\": 5,\n        \"num_unique_values\": 5,\n        \"samples\": [\n          1,\n          2,\n          5\n        ],\n        \"semantic_type\": \"\",\n        \"description\": \"\"\n      }\n    },\n    {\n      \"column\": \"M\\u00e9todo de pago\",\n      \"properties\": {\n        \"dtype\": \"category\",\n        \"num_unique_values\": 4,\n        \"samples\": [\n          \"Nequi\",\n          \"Tarjeta de d\\u00e9bito\",\n          \"Tarjeta de cr\\u00e9dito\"\n        ],\n        \"semantic_type\": \"\",\n        \"description\": \"\"\n      }\n    },\n    {\n      \"column\": \"Cantidad de cuotas\",\n      \"properties\": {\n        \"dtype\": \"number\",\n        \"std\": 2,\n        \"min\": 1,\n        \"max\": 24,\n        \"num_unique_values\": 15,\n        \"samples\": [\n          7,\n          14,\n          8\n        ],\n        \"semantic_type\": \"\",\n        \"description\": \"\"\n      }\n    },\n    {\n      \"column\": \"lat\",\n      \"properties\": {\n        \"dtype\": \"number\",\n        \"std\": 2.2874452492678627,\n        \"min\": -4.21528,\n        \"max\": 11.54444,\n        \"num_unique_values\": 19,\n        \"samples\": [\n          4.60971,\n          4.81333,\n          2.9273\n        ],\n        \"semantic_type\": \"\",\n        \"description\": \"\"\n      }\n    },\n    {\n      \"column\": \"lon\",\n      \"properties\": {\n        \"dtype\": \"number\",\n        \"std\": 1.2178272727088486,\n        \"min\": -77.28111,\n        \"max\": -67.9239,\n        \"num_unique_values\": 19,\n        \"samples\": [\n          -74.08175,\n          -75.69611,\n          -75.28189\n        ],\n        \"semantic_type\": \"\",\n        \"description\": \"\"\n      }\n    }\n  ]\n}"
            }
          },
          "metadata": {},
          "execution_count": 2
        }
      ],
      "source": [
        "# @title\n",
        "import pandas as pd\n",
        "\n",
        "url1 = \"https://raw.githubusercontent.com/alura-es-cursos/challenge1-data-science-latam/refs/heads/main/base-de-datos-challenge1-latam/tienda_1%20.csv\"\n",
        "url2 = \"https://raw.githubusercontent.com/alura-es-cursos/challenge1-data-science-latam/refs/heads/main/base-de-datos-challenge1-latam/tienda_2.csv\"\n",
        "url3 = \"https://raw.githubusercontent.com/alura-es-cursos/challenge1-data-science-latam/refs/heads/main/base-de-datos-challenge1-latam/tienda_3.csv\"\n",
        "url4 = \"https://raw.githubusercontent.com/alura-es-cursos/challenge1-data-science-latam/refs/heads/main/base-de-datos-challenge1-latam/tienda_4.csv\"\n",
        "\n",
        "tienda1 = pd.read_csv(url1)\n",
        "tienda2 = pd.read_csv(url2)\n",
        "tienda3 = pd.read_csv(url3)\n",
        "tienda4 = pd.read_csv(url4)\n",
        "\n",
        "tienda1.head()"
      ]
    },
    {
      "cell_type": "markdown",
      "source": [
        "### Nota:\n",
        "Tener en cuenta la siguiente aspectos del analisis a considerar.\n",
        "\n",
        "* Facturación total de cada de cada tienda\n",
        "* categoria mas populares\n",
        "* Promedio de calificacion de los clientes\n",
        "* Productos más y menos vendidos\n",
        "* costos promedio del envio\n"
      ],
      "metadata": {
        "id": "xdTd2sw433gz"
      }
    },
    {
      "cell_type": "code",
      "source": [
        "\n",
        "ventas_por_categoria = tienda1.groupby(\"Categoría del Producto\")[\"Precio\"].sum()\n",
        "print(ventas_por_categoria)\n",
        "print()\n",
        "\n",
        "promedio = round(tienda1[\"Calificación\"].mean(), 2)\n",
        "print(\"promedio:\", promedio)\n",
        "print()\n",
        "\n",
        "conteo_productos = tienda1[\"Producto\"].value_counts().head(5)\n",
        "print(conteo_productos)\n",
        "print()\n",
        "\n",
        "conteo_tipo_productos = tienda1[\"Categoría del Producto\"].value_counts()\n",
        "print(conteo_tipo_productos)\n",
        "print()\n",
        "\n",
        "costo_promedio = round(tienda1[\"Costo de envío\"].mean(), 2)\n",
        "print(\"costo promedio:\", costo_promedio)"
      ],
      "metadata": {
        "colab": {
          "base_uri": "https://localhost:8080/"
        },
        "id": "hj0mHlwAqqYg",
        "outputId": "fdaa90f3-6299-4418-9bd4-4cf287512161"
      },
      "execution_count": 17,
      "outputs": [
        {
          "output_type": "stream",
          "name": "stdout",
          "text": [
            "Categoría del Producto\n",
            "Artículos para el hogar     12698400.0\n",
            "Deportes y diversión        39290000.0\n",
            "Electrodomésticos          363685200.0\n",
            "Electrónicos               429493500.0\n",
            "Instrumentos musicales      91299000.0\n",
            "Juguetes                    17995700.0\n",
            "Libros                       8784900.0\n",
            "Muebles                    187633700.0\n",
            "Name: Precio, dtype: float64\n",
            "\n",
            "promedio: 3.98\n",
            "\n",
            "Producto\n",
            "Microondas          60\n",
            "TV LED UHD 4K       60\n",
            "Armario             60\n",
            "Secadora de ropa    58\n",
            "Mesa de noche       56\n",
            "Name: count, dtype: int64\n",
            "\n",
            "Categoría del Producto\n",
            "Muebles                    465\n",
            "Electrónicos               448\n",
            "Juguetes                   324\n",
            "Electrodomésticos          312\n",
            "Deportes y diversión       284\n",
            "Instrumentos musicales     182\n",
            "Libros                     173\n",
            "Artículos para el hogar    171\n",
            "Name: count, dtype: int64\n",
            "\n",
            "costo promedio: 26018.61\n"
          ]
        }
      ]
    },
    {
      "cell_type": "markdown",
      "source": [
        "## Refactorización del proceso\n",
        "\n",
        "se prensenta el proceso anterior como una funcion que recive parametros del tipo **DataFrame** para evitar la redundancia de codigo."
      ],
      "metadata": {
        "id": "ub0y8UHityj8"
      }
    },
    {
      "cell_type": "code",
      "source": [
        "def resumen_tienda(df, nombre=\"Tienda\"):\n",
        "    conteo_productos = df[\"Producto\"].value_counts()\n",
        "\n",
        "    resumen = {\n",
        "        \"Nombre\": nombre,\n",
        "        \"Total ventas\": round(df[\"Precio\"].sum(), 0),\n",
        "        \"Ventas promedio\": round(df[\"Precio\"].mean(), 2),\n",
        "        \"Desviación ventas\": round(df[\"Precio\"].std(), 2),\n",
        "        \"Promedio calificación\": round(df[\"Calificación\"].mean(), 2),\n",
        "        \"Costo envío promedio\": round(df[\"Costo de envío\"].mean(), 2),\n",
        "        \"Desviación envío\": round(df[\"Costo de envío\"].std(), 2),\n",
        "        \"Producto más vendido\": \", \".join(\n",
        "            conteo_productos[conteo_productos == conteo_productos.max()].index\n",
        "        ),\n",
        "        \"Producto menos vendido\": \", \".join(\n",
        "            conteo_productos[conteo_productos == conteo_productos.min()].index\n",
        "        )\n",
        "    }\n",
        "    return resumen\n",
        "\n",
        "resumenes = [\n",
        "    resumen_tienda(tienda1, \"Tienda 1\"),\n",
        "    resumen_tienda(tienda2, \"Tienda 2\"),\n",
        "    resumen_tienda(tienda3, \"Tienda 3\"),\n",
        "    resumen_tienda(tienda4, \"Tienda 4\"),\n",
        "]\n",
        "\n",
        "df_resumen = pd.DataFrame(resumenes)\n",
        "print(df_resumen)\n",
        "\n",
        "# Ahora creamos la matriz de coeficientes de variación\n",
        "cv_ventas = df_resumen[\"Desviación ventas\"] / df_resumen[\"Ventas promedio\"]\n",
        "cv_envio = df_resumen[\"Desviación envío\"] / df_resumen[\"Costo envío promedio\"]\n",
        "\n",
        "matriz_cv = pd.DataFrame({\n",
        "    \"Nombre\": df_resumen[\"Nombre\"],\n",
        "    \"CV Ventas\": round(cv_ventas, 4),\n",
        "    \"CV Envío\": round(cv_envio, 4)\n",
        "})\n",
        "\n",
        "print(\"\\n\", matriz_cv)\n",
        "\n",
        "\n"
      ],
      "metadata": {
        "colab": {
          "base_uri": "https://localhost:8080/"
        },
        "id": "XD3hm5GI6Abn",
        "outputId": "9b0deef6-cb2e-4d3f-c070-47a1850a88bf"
      },
      "execution_count": 4,
      "outputs": [
        {
          "output_type": "stream",
          "name": "stdout",
          "text": [
            "     Nombre  Total ventas  Ventas promedio  Desviación ventas  \\\n",
            "0  Tienda 1  1.150880e+09        487867.91          614686.77   \n",
            "1  Tienda 2  1.116344e+09        473227.43          595559.55   \n",
            "2  Tienda 3  1.098020e+09        465459.77          580643.39   \n",
            "3  Tienda 4  1.038376e+09        440362.89          568755.60   \n",
            "\n",
            "   Promedio calificación  Costo envío promedio  Desviación envío  \\\n",
            "0                   3.98              26018.61          32860.00   \n",
            "1                   4.04              25216.24          31741.38   \n",
            "2                   4.05              24805.68          30945.89   \n",
            "3                   4.00              23459.46          30279.10   \n",
            "\n",
            "                 Producto más vendido                   Producto menos vendido  \n",
            "0  Microondas, TV LED UHD 4K, Armario  Auriculares con micrófono, Celular ABXY  \n",
            "1           Iniciando en programación                            Juego de mesa  \n",
            "2                       Kit de bancas                  Bloques de construcción  \n",
            "3                            Cama box                       Guitarra eléctrica  \n",
            "\n",
            "      Nombre  CV Ventas  CV Envío\n",
            "0  Tienda 1     1.2599    1.2629\n",
            "1  Tienda 2     1.2585    1.2588\n",
            "2  Tienda 3     1.2475    1.2475\n",
            "3  Tienda 4     1.2916    1.2907\n"
          ]
        }
      ]
    },
    {
      "cell_type": "markdown",
      "source": [
        "# Graficos"
      ],
      "metadata": {
        "id": "N87etc5uGkym"
      }
    },
    {
      "cell_type": "markdown",
      "source": [
        "Empezamos mostrando el promedio de ventas por tienda."
      ],
      "metadata": {
        "id": "hc7nfc4dGvJk"
      }
    },
    {
      "cell_type": "code",
      "source": [
        "import matplotlib.pyplot as plt\n",
        "\n",
        "# Comparación de ventas promedio\n",
        "plt.figure(figsize=(8, 5))\n",
        "plt.bar(df_resumen[\"Nombre\"], df_resumen[\"Ventas promedio\"], color=\"skyblue\")\n",
        "plt.title(\"Ventas promedio por tienda\")\n",
        "plt.ylabel(\"Ventas ($)\")\n",
        "plt.xlabel(\"Tienda\")\n",
        "plt.ylim(400000, 500000)\n",
        "plt.grid(axis='y', linestyle='--', alpha=0.5)\n",
        "plt.show()\n"
      ],
      "metadata": {
        "id": "55JR_X63AtEj",
        "colab": {
          "base_uri": "https://localhost:8080/",
          "height": 487
        },
        "outputId": "e00474fd-0742-4eda-b5d9-ff81cc709ed2"
      },
      "execution_count": 7,
      "outputs": [
        {
          "output_type": "display_data",
          "data": {
            "text/plain": [
              "<Figure size 800x500 with 1 Axes>"
            ],
            "image/png": "[encoded data removed]"
          },
          "metadata": {}
        }
      ]
    },
    {
      "cell_type": "code",
      "source": [
        "import matplotlib.pyplot as plt\n",
        "\n",
        "plt.figure(figsize=(8, 5))\n",
        "plt.scatter(df_resumen[\"Ventas promedio\"], matriz_cv[\"CV Ventas\"], color=\"coral\", s=100)\n",
        "\n",
        "for i, row in df_resumen.iterrows():\n",
        "    plt.annotate(row[\"Nombre\"],\n",
        "                 (df_resumen[\"Ventas promedio\"][i], matriz_cv[\"CV Ventas\"][i]),\n",
        "                 textcoords=\"offset points\", xytext=(0,10), ha='center')\n",
        "\n",
        "plt.title(\"Relación entre ventas promedio y CV de ventas\")\n",
        "plt.xlabel(\"Ventas promedio\")\n",
        "plt.ylabel(\"CV Ventas\")\n",
        "plt.grid(True)\n",
        "plt.show()\n"
      ],
      "metadata": {
        "colab": {
          "base_uri": "https://localhost:8080/",
          "height": 488
        },
        "id": "G2RcPccjGTTd",
        "outputId": "b24ca02e-3801-4c99-8821-e8d2a87d6128"
      },
      "execution_count": 9,
      "outputs": [
        {
          "output_type": "display_data",
          "data": {
            "text/plain": [
              "<Figure size 800x500 with 1 Axes>"
            ],
            "image/png": "[encoded data removed]"
          },
          "metadata": {}
        }
      ]
    },
    {
      "cell_type": "code",
      "source": [
        "import numpy as np\n",
        "\n",
        "labels = matriz_cv[\"Nombre\"]\n",
        "x = np.arange(len(labels))\n",
        "width = 0.35\n",
        "\n",
        "fig, ax = plt.subplots(figsize=(8,5))\n",
        "rects1 = ax.bar(x - width/2, matriz_cv[\"CV Ventas\"], width, label='CV Ventas')\n",
        "rects2 = ax.bar(x + width/2, matriz_cv[\"CV Envío\"], width, label='CV Envío')\n",
        "\n",
        "ax.set_ylabel('CV')\n",
        "ax.set_title('Comparación de CV por tienda')\n",
        "ax.set_xticks(x)\n",
        "ax.set_xticklabels(labels)\n",
        "ax.set_ylim(1.24, 1.3)\n",
        "ax.legend()\n",
        "ax.grid(axis='y', linestyle='--', alpha=0.5)\n",
        "plt.show()\n"
      ],
      "metadata": {
        "colab": {
          "base_uri": "https://localhost:8080/",
          "height": 468
        },
        "id": "yZ8NF0DuJt8F",
        "outputId": "4423b9f0-8836-4f64-d877-faca5d721e80"
      },
      "execution_count": 10,
      "outputs": [
        {
          "output_type": "display_data",
          "data": {
            "text/plain": [
              "<Figure size 800x500 with 1 Axes>"
            ],
            "image/png": "[encoded data removed]"
          },
          "metadata": {}
        }
      ]
    },
    {
      "cell_type": "markdown",
      "source": [
        "# Informe"
      ],
      "metadata": {
        "id": "ie7jX43rIuFa"
      }
    },
    {
      "cell_type": "markdown",
      "source": [
        "El presente informe tiene como objetivo analizar el rendimiento de las cuatro tiendas que conforman la cadena Alura Store, con el fin de identificar cuál de ellas representa la mejor opción para ser vendida. A través del análisis de métricas clave como las ventas promedio, la calificación de los productos, el costo de envío y la estabilidad operativa —medida mediante la desviación estándar y el coeficiente de variación—, se comparan de forma objetiva los resultados de cada tienda. Este enfoque permite evaluar tanto la rentabilidad como la eficiencia relativa de cada punto de venta, proporcionando una base sólida para respaldar una decisión estratégica de desinversión.\n",
        "\n",
        "El análisis comparativo entre las cuatro sucursales de Alura Store revela diferencias significativas en cuanto a eficiencia operativa, rentabilidad y percepción del cliente.\n",
        "\n",
        "Tienda 1, aunque lidera en ventas promedio, presenta la mayor desviación tanto en ingresos como en costos logísticos, además de contar con la calificación más baja. Esto sugiere una operación volátil y menos satisfactoria para el cliente. En contraste, Tienda 2 y Tienda 3 muestran un desempeño más equilibrado, destacándose esta última por obtener la mejor calificación de los clientes y mantener costos logísticos relativamente bajos, lo que refleja eficiencia operativa y buena percepción del público.\n",
        "\n",
        "Tienda 4, si bien presenta el menor costo de envío y una aparente estabilidad en términos absolutos, registra las ventas promedio más bajas y no sobresale en ninguna otra métrica relevante.\n",
        "\n",
        "Al incorporar el análisis del coeficiente de variación, se evidencia que Tienda 4 presenta la mayor inestabilidad relativa, tanto en ingresos como en logística. Aunque sus desviaciones son menores en términos absolutos, su bajo promedio magnifica el impacto de cualquier fluctuación, representando un mayor riesgo operativo en relación con su rentabilidad.\n",
        "\n",
        "Por estas razones, se concluye que Tienda 4 ofrece el menor retorno relativo frente a las demás sucursales, al combinar baja rentabilidad, inestabilidad proporcional y una posición poco competitiva en los indicadores clave. Se recomienda al Sr. Juan considerar su venta como una estrategia óptima para liberar recursos, reducir riesgos y enfocar esfuerzos en tiendas con mayor potencial de crecimiento."
      ],
      "metadata": {
        "id": "Y8Vsaa_a4gYv"
      }
    },
    {
      "cell_type": "markdown",
      "source": [
        "#Desafio Extra!"
      ],
      "metadata": {
        "id": "xdvAAwjQLLDA"
      }
    },
    {
      "cell_type": "markdown",
      "source": [],
      "metadata": {
        "id": "5iBD1Qc_LZPw"
      }
    },
    {
      "cell_type": "code",
      "source": [
        "\n",
        "tienda1[\"Tienda\"] = \"Tienda 1\"\n",
        "tienda2[\"Tienda\"] = \"Tienda 2\"\n",
        "tienda3[\"Tienda\"] = \"Tienda 3\"\n",
        "tienda4[\"Tienda\"] = \"Tienda 4\"\n",
        "\n",
        "df_geo = pd.concat([tienda1, tienda2, tienda3, tienda4])\n",
        "\n",
        "\n",
        "import matplotlib.pyplot as plt\n",
        "\n",
        "plt.figure(figsize=(10, 6))\n",
        "for tienda, grupo in df_geo.groupby(\"Tienda\"):\n",
        "    plt.scatter(grupo[\"lon\"], grupo[\"lat\"], label=tienda, alpha=0.5, s=10)\n",
        "\n",
        "plt.xlabel(\"Longitud\")\n",
        "plt.ylabel(\"Latitud\")\n",
        "plt.title(\"🗺️ Distribución geográfica de ventas por tienda\")\n",
        "plt.legend()\n",
        "plt.grid(True)\n",
        "plt.show()\n",
        "\n",
        "import seaborn as sns\n",
        "\n",
        "plt.figure(figsize=(10, 6))\n",
        "sns.kdeplot(\n",
        "    x=df_geo[\"lon\"],\n",
        "    y=df_geo[\"lat\"],\n",
        "    cmap=\"Reds\",\n",
        "    shade=True,\n",
        "    bw_adjust=0.5\n",
        ")\n",
        "plt.title(\"🔥 Mapa de calor de concentración de ventas\")\n",
        "plt.xlabel(\"Longitud\")\n",
        "plt.ylabel(\"Latitud\")\n",
        "plt.grid(True)\n",
        "plt.show()\n",
        "\n",
        "\n",
        "\n"
      ],
      "metadata": {
        "id": "VHR2KId-LbIx"
      },
      "execution_count": null,
      "outputs": []
    },
    {
      "cell_type": "code",
      "source": [
        "\n",
        "plt.figure(figsize=(10, 6))\n",
        "scatter = plt.scatter(\n",
        "    df_geo[\"lon\"], df_geo[\"lat\"],\n",
        "    c=df_geo[\"Precio\"], cmap=\"viridis\", alpha=0.6, s=20\n",
        ")\n",
        "plt.colorbar(scatter, label=\"Precio de venta\")\n",
        "plt.title(\"💰 Mapa geográfico por valor de venta\")\n",
        "plt.xlabel(\"Longitud\")\n",
        "plt.ylabel(\"Latitud\")\n",
        "plt.grid(True)\n",
        "plt.show()\n",
        "\n"
      ],
      "metadata": {
        "id": "6LPLTnEwObF0"
      },
      "execution_count": null,
      "outputs": []
    },
    {
      "cell_type": "code",
      "source": [
        "import folium\n",
        "from folium.plugins import HeatMap\n",
        "\n",
        "# Mapa centrado en América Latina (ajusta según tus datos)\n",
        "mapa = folium.Map(location=[-10, -75], zoom_start=4)\n",
        "\n",
        "# Crear puntos\n",
        "heat_data = df_geo[[\"lat\", \"lon\", \"Precio\"]].dropna().values.tolist()\n",
        "HeatMap(heat_data, radius=8).add_to(mapa)\n",
        "\n",
        "mapa\n"
      ],
      "metadata": {
        "id": "qTNV1RCHOjZO"
      },
      "execution_count": null,
      "outputs": []
    },
    {
      "cell_type": "markdown",
      "source": [],
      "metadata": {
        "id": "sDG9PzldJFTG"
      }
    }
  ]
}